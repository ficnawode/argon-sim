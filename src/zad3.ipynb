{
 "cells": [
  {
   "cell_type": "code",
   "execution_count": 1,
   "metadata": {},
   "outputs": [],
   "source": [
    "from argon import ArgonSimulation\n",
    "from matplotlib import pyplot as plt\n",
    "import pandas as pd"
   ]
  },
  {
   "cell_type": "code",
   "execution_count": 2,
   "metadata": {},
   "outputs": [],
   "source": [
    "\n",
    "params_dict = {\n",
    "    \"n\": 6,\n",
    "    \"m\": 40.0,\n",
    "    \"e\": 1.0,\n",
    "    \"R\": 0.38,\n",
    "    \"f\": 10000.0,\n",
    "    \"L\": 2.418,\n",
    "    \"a\": 0.38,\n",
    "    \"T_0\": 1000,\n",
    "    \"tau\": 0.001,\n",
    "    \"S_o\": 100,\n",
    "    \"S_d\": 10000,\n",
    "    \"S_out\": 10,\n",
    "    \"S_xyz\": 100\n",
    "}"
   ]
  },
  {
   "cell_type": "code",
   "execution_count": 3,
   "metadata": {},
   "outputs": [
    {
     "name": "stdout",
     "output_type": "stream",
     "text": [
      "\n",
      "\n",
      "\n",
      " V = -1250.6601362625781\n",
      "\n",
      "\n"
     ]
    },
    {
     "name": "stderr",
     "output_type": "stream",
     "text": [
      " 53%|█████▎    | 5378/10100 [00:43<00:40, 117.71it/s]"
     ]
    }
   ],
   "source": [
    "\n",
    "out_filepath = f'out/zad3/sim.csv'\n",
    "xyz_filepath = f'out/zad3/sim.xyz'\n",
    "\n",
    "sim = ArgonSimulation(params_dict, xyz_filepath, out_filepath, show_plots = False)\n",
    "\n",
    "sim.run()"
   ]
  },
  {
   "cell_type": "code",
   "execution_count": null,
   "metadata": {},
   "outputs": [],
   "source": []
  }
 ],
 "metadata": {
  "kernelspec": {
   "display_name": "kmsconda",
   "language": "python",
   "name": "python3"
  },
  "language_info": {
   "codemirror_mode": {
    "name": "ipython",
    "version": 3
   },
   "file_extension": ".py",
   "mimetype": "text/x-python",
   "name": "python",
   "nbconvert_exporter": "python",
   "pygments_lexer": "ipython3",
   "version": "3.9.18"
  }
 },
 "nbformat": 4,
 "nbformat_minor": 2
}
