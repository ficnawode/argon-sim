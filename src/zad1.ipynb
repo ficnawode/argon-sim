{
 "cells": [
  {
   "cell_type": "code",
   "execution_count": 1,
   "metadata": {},
   "outputs": [],
   "source": [
    "from argon import ArgonSimulation\n",
    "import time"
   ]
  },
  {
   "cell_type": "markdown",
   "metadata": {},
   "source": [
    "# Zadanie 1"
   ]
  },
  {
   "cell_type": "code",
   "execution_count": 2,
   "metadata": {},
   "outputs": [],
   "source": [
    "params_dict = {\n",
    "    \"n\": 5,\n",
    "    \"m\": 40.0,\n",
    "    \"e\": 1.0,\n",
    "    \"R\": 0.38,\n",
    "    \"f\": 10000.0,\n",
    "    \"L\": 2.418,\n",
    "    \"a\": 0.38,\n",
    "    \"T_0\": 100,\n",
    "    \"tau\": 0.001,\n",
    "    \"S_o\": 100,\n",
    "    \"S_d\": 10000,\n",
    "    \"S_out\": 10,\n",
    "    \"S_xyz\": 100\n",
    "}\n",
    "\n",
    "dt_s = []"
   ]
  },
  {
   "cell_type": "code",
   "execution_count": 3,
   "metadata": {},
   "outputs": [
    {
     "name": "stdout",
     "output_type": "stream",
     "text": [
      "\n",
      "\n",
      "\n",
      " V = -669.2932036253563\n",
      "\n",
      "\n"
     ]
    },
    {
     "name": "stderr",
     "output_type": "stream",
     "text": [
      "100%|██████████| 10100/10100 [00:27<00:00, 370.28it/s]"
     ]
    },
    {
     "name": "stdout",
     "output_type": "stream",
     "text": [
      "time elapsed during run: 27.32854199409485\n"
     ]
    },
    {
     "name": "stderr",
     "output_type": "stream",
     "text": [
      "\n"
     ]
    }
   ],
   "source": [
    "n = 5\n",
    "params_dict['n'] = n \n",
    "out_filepath = f'out/zad1/{n}.csv'\n",
    "xyz_filepath = f'out/zad1/{n}.xyz'\n",
    "\n",
    "sim = ArgonSimulation(params_dict, xyz_filepath, out_filepath, show_plots = False)\n",
    "\n",
    "t1 = time.time()\n",
    "sim.run()\n",
    "t2 = time.time()\n",
    "dt = t2 - t1\n",
    "\n",
    "dt_s.append((n,dt))\n",
    "print(f'time elapsed during run: {dt}')"
   ]
  },
  {
   "cell_type": "code",
   "execution_count": 4,
   "metadata": {},
   "outputs": [
    {
     "name": "stdout",
     "output_type": "stream",
     "text": [
      "\n",
      "\n",
      "\n",
      " V = -1250.6601362625781\n",
      "\n",
      "\n"
     ]
    },
    {
     "name": "stderr",
     "output_type": "stream",
     "text": [
      "  0%|          | 13/10100 [00:00<01:20, 125.33it/s]"
     ]
    },
    {
     "name": "stderr",
     "output_type": "stream",
     "text": [
      "100%|██████████| 10100/10100 [01:21<00:00, 123.38it/s]"
     ]
    },
    {
     "name": "stdout",
     "output_type": "stream",
     "text": [
      "time elapsed during run: 81.88912558555603\n"
     ]
    },
    {
     "name": "stderr",
     "output_type": "stream",
     "text": [
      "\n"
     ]
    }
   ],
   "source": [
    "n = 6\n",
    "params_dict['n'] = n \n",
    "out_filepath = f'out/zad1/{n}.csv'\n",
    "xyz_filepath = f'out/zad1/{n}.xyz'\n",
    "\n",
    "sim = ArgonSimulation(params_dict, xyz_filepath, out_filepath, show_plots = False)\n",
    "\n",
    "t1 = time.time()\n",
    "sim.run()\n",
    "t2 = time.time()\n",
    "dt = t2 - t1\n",
    "\n",
    "dt_s.append((n,dt))\n",
    "print(f'time elapsed during run: {dt}')"
   ]
  },
  {
   "cell_type": "code",
   "execution_count": 5,
   "metadata": {},
   "outputs": [
    {
     "name": "stdout",
     "output_type": "stream",
     "text": [
      "\n",
      "\n",
      "\n",
      " V = -2098.143496681068\n",
      "\n",
      "\n"
     ]
    },
    {
     "name": "stderr",
     "output_type": "stream",
     "text": [
      "  0%|          | 5/10100 [00:00<03:34, 47.05it/s]"
     ]
    },
    {
     "name": "stderr",
     "output_type": "stream",
     "text": [
      "100%|██████████| 10100/10100 [03:23<00:00, 49.65it/s]"
     ]
    },
    {
     "name": "stdout",
     "output_type": "stream",
     "text": [
      "time elapsed during run: 203.46903085708618\n"
     ]
    },
    {
     "name": "stderr",
     "output_type": "stream",
     "text": [
      "\n"
     ]
    }
   ],
   "source": [
    "\n",
    "n = 7\n",
    "params_dict['n'] = n \n",
    "out_filepath = f'out/zad1/{n}.csv'\n",
    "xyz_filepath = f'out/zad1/{n}.xyz'\n",
    "\n",
    "sim = ArgonSimulation(params_dict, xyz_filepath, out_filepath, show_plots = False)\n",
    "\n",
    "t1 = time.time()\n",
    "sim.run()\n",
    "t2 = time.time()\n",
    "dt = t2 - t1\n",
    "\n",
    "dt_s.append((n,dt))\n",
    "print(f'time elapsed during run: {dt}')"
   ]
  },
  {
   "cell_type": "code",
   "execution_count": 6,
   "metadata": {},
   "outputs": [
    {
     "name": "stdout",
     "output_type": "stream",
     "text": [
      "\n",
      "\n",
      "\n",
      " V = -3262.050166748802\n",
      "\n",
      "\n"
     ]
    },
    {
     "name": "stderr",
     "output_type": "stream",
     "text": [
      "  0%|          | 0/10100 [00:00<?, ?it/s]"
     ]
    },
    {
     "name": "stderr",
     "output_type": "stream",
     "text": [
      "  4%|▍         | 454/10100 [00:20<07:37, 21.10it/s]"
     ]
    }
   ],
   "source": [
    "n = 8\n",
    "params_dict['n'] = n \n",
    "out_filepath = f'out/zad1/{n}.csv'\n",
    "xyz_filepath = f'out/zad1/{n}.xyz'\n",
    "\n",
    "sim = ArgonSimulation(params_dict, xyz_filepath, out_filepath, show_plots = False)\n",
    "\n",
    "t1 = time.time()\n",
    "sim.run()\n",
    "t2 = time.time()\n",
    "dt = t2 - t1\n",
    "\n",
    "dt_s.append((n,dt))\n",
    "print(f'time elapsed during run: {dt}')"
   ]
  },
  {
   "cell_type": "code",
   "execution_count": null,
   "metadata": {},
   "outputs": [
    {
     "name": "stdout",
     "output_type": "stream",
     "text": [
      "\n",
      "\n",
      "\n",
      " V = -4792.694346443417\n",
      "\n",
      "\n"
     ]
    },
    {
     "name": "stderr",
     "output_type": "stream",
     "text": [
      "100%|██████████| 10100/10100 [23:01:18<00:00,  8.21s/it]       "
     ]
    },
    {
     "name": "stdout",
     "output_type": "stream",
     "text": [
      "time elapsed during run: 82878.26919102669\n"
     ]
    },
    {
     "name": "stderr",
     "output_type": "stream",
     "text": [
      "\n"
     ]
    }
   ],
   "source": [
    "n = 9\n",
    "params_dict['n'] = n \n",
    "out_filepath = f'out/zad1/{n}.csv'\n",
    "xyz_filepath = f'out/zad1/{n}.xyz'\n",
    "\n",
    "sim = ArgonSimulation(params_dict, xyz_filepath, out_filepath, show_plots = False)\n",
    "\n",
    "t1 = time.time()\n",
    "sim.run()\n",
    "t2 = time.time()\n",
    "dt = t2 - t1\n",
    "\n",
    "dt_s.append((n,dt))\n",
    "print(f'time elapsed during run: {dt}')"
   ]
  },
  {
   "cell_type": "code",
   "execution_count": null,
   "metadata": {},
   "outputs": [],
   "source": [
    "n = 10\n",
    "params_dict['n'] = n \n",
    "out_filepath = f'out/zad1/{n}.csv'\n",
    "xyz_filepath = f'out/zad1/{n}.xyz'\n",
    "\n",
    "sim = ArgonSimulation(params_dict, xyz_filepath, out_filepath, show_plots = False)\n",
    "\n",
    "t1 = time.time()\n",
    "sim.run()\n",
    "t2 = time.time()\n",
    "dt = t2 - t1\n",
    "\n",
    "dt_s.append((n,dt))\n",
    "print(f'time elapsed during run: {dt}')"
   ]
  },
  {
   "cell_type": "code",
   "execution_count": null,
   "metadata": {},
   "outputs": [],
   "source": [
    "from matplotlib import pyplot as plt\n",
    "\n",
    "n_s = [x for x in range(5,11)]\n",
    "print(dt_s)\n",
    "\n",
    "plt.figure(figsize=(6,8))\n",
    "plt.scatter(n_s, dt_s, color='red')\n",
    "\n",
    "plt.xlabel(r'$n$')\n",
    "plt.ylabel(r'$\\Delta t \\; [s]$')\n",
    "\n",
    "plt.savefig('out/zad1/time_complexity.png', dpi=350)\n",
    "plt.show()"
   ]
  },
  {
   "cell_type": "code",
   "execution_count": null,
   "metadata": {},
   "outputs": [],
   "source": []
  }
 ],
 "metadata": {
  "kernelspec": {
   "display_name": "kmsconda",
   "language": "python",
   "name": "python3"
  },
  "language_info": {
   "codemirror_mode": {
    "name": "ipython",
    "version": 3
   },
   "file_extension": ".py",
   "mimetype": "text/x-python",
   "name": "python",
   "nbconvert_exporter": "python",
   "pygments_lexer": "ipython3",
   "version": "3.9.18"
  }
 },
 "nbformat": 4,
 "nbformat_minor": 2
}
